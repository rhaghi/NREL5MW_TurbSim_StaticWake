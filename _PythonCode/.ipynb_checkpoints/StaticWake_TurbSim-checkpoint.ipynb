{
 "cells": [
  {
   "cell_type": "markdown",
   "id": "a24acece-1509-417b-85c3-820356877544",
   "metadata": {},
   "source": [
    "# Adding Static Wake to TurbSim output\n",
    "\n",
    "This notebook is about to adding the static wake to Turbsim outputs. The motivation here is modeling a turbine (NREL5MW) in the wake without going through the hassle of dynamic wake modeling. This is work is mainly basd on the section 4 of HIPERWIND report \"Wind farm parameterization and turbulent wind box generation\" (https://hal-lara.archives-ouvertes.fr/hal-04033050/), and \"A new Gaussian-based analytical wake model for wind turbines considering ambient turbulence intensities and thrust coefficient effects\" (https://doi.org/10.1016/j.jweia.2018.04.010). The modification on the Sobol's sampled $[u,TI,\\alpha]$. The process is as follow:\n",
    "\n",
    "- Take the Sobol's samples from the domains\n",
    "- Calculate wake shape function $\\phi$ and TI changes for each sample\n",
    "- Calculate the harmonic mean of the velocity deficit $\\phi$ over the rotor\n",
    "- Calculate the mean of the TI changes over the rotor\n",
    "- Generate TurbSim input files based on the calculated means ($\\phi$ and TI).\n",
    "- Run TurbSim\n",
    "- Import the generated Turbsim '.bts' files, recall the wake shape function $\\phi$ modify the turbulent wind box data\n",
    "- Save the modified tubulent wind with the same file naming\n",
    "- Generate Inflwo and OpenFAST input files and run the OpenFAST simulations.\n",
    "\n"
   ]
  },
  {
   "cell_type": "markdown",
   "id": "2c7ea78f-da63-4e23-ae43-5a60511deccb",
   "metadata": {},
   "source": [
    "## Importing python libraries"
   ]
  },
  {
   "cell_type": "code",
   "execution_count": 1,
   "id": "c99aafdf-602c-4f7e-a396-c49e2c319955",
   "metadata": {},
   "outputs": [
    {
     "name": "stdout",
     "output_type": "stream",
     "text": [
      "/project/6002346/rhaghi/OpenFAST/NREL5MW_Sobol_u_alpha_TI_Wake_000m90m/_PythonCode\n"
     ]
    }
   ],
   "source": [
    "import os\n",
    "\n",
    "#os.chdir('../../Colab_NB/NREL5MW_Sobol_uTIa_FFWind_ResNet/')\n",
    "print(os.getcwd())\n",
    "\n",
    "import numpy\n",
    "import time\n",
    "import pandas as pd\n",
    "import numpy as np\n",
    "import matplotlib.pyplot as plt\n",
    "import seaborn as sns\n",
    "import h5py\n",
    "import chaospy as cp\n",
    "import glob\n",
    "\n",
    "import time as tm\n",
    "\n",
    "from scipy import signal\n",
    "import datetime\n",
    "import sys\n",
    "from pyFAST.input_output import FASTOutputFile\n",
    "from pyFAST.input_output import TurbSimFile\n",
    "from pyFAST.input_output import FASTInputFile\n",
    "from scipy.interpolate import interp2d\n",
    "from scipy.stats import hmean\n",
    "\n",
    "from matplotlib.ticker import (AutoMinorLocator, MultipleLocator)\n",
    "from matplotlib.patches import Circle, PathPatch\n",
    "from matplotlib.path import Path\n",
    "\n",
    "timestr = tm.strftime('%Y%m%d')\n",
    "\n",
    "\n",
    "import random\n",
    "\n",
    "plt.rc('text', usetex=True)\n",
    "plt.rc('font', family='serif')\n",
    "plt.rc('font', size = 30)\n",
    "plt.rc('xtick', labelsize = 25)\n",
    "plt.rc('ytick', labelsize = 25)\n",
    "plt.rc('legend',fontsize=25) # using a size in points\n",
    "plt.rc('axes', labelsize = 25)\n"
   ]
  },
  {
   "cell_type": "markdown",
   "id": "244e686e-93c2-47d4-b6d4-260c9d377470",
   "metadata": {},
   "source": [
    "## Sobol's Sample function \n",
    "\n",
    "This function takes the number of samples is, and genrates Sobol's samples on $[u,TI,\\alpha]$ based on the predifined bounderies. In the output sampling array, the first row is the\n",
    "    wind speed, the second row is the shear $\\alpha$ and the third row is TI "
   ]
  },
  {
   "cell_type": "code",
   "execution_count": 2,
   "id": "27a01461-ba9f-4bec-9629-7a6fcbb9f9e0",
   "metadata": {},
   "outputs": [],
   "source": [
    "def Sobol_Samp_u_a_TI(nos):\n",
    "    a_LB = 0.15\n",
    "    a_UB = 0.22\n",
    "    D = 126\n",
    "    R = D/2\n",
    "    U_max = 25\n",
    "    z = 90\n",
    "    U = cp.Uniform(lower = 3, upper=25)\n",
    "    TI = cp.Uniform(lower = 0.04, upper=0.18*(0.75+5.6/U))\n",
    "    alpha_lb = a_LB-0.23*(U_max/U)*(1-(0.4*np.log10(R/z))**2)\n",
    "    alpha_ub = a_UB + 0.4*(R/z)*(U_max/U)\n",
    "    alpha = cp.Uniform(lower =alpha_lb , upper=alpha_ub)\n",
    "    joint_dist1 = cp.J(U,alpha)\n",
    "    joint_dist2 = cp.J(U,TI)\n",
    "    joint_dist1_T = cp.Trunc(joint_dist1,lower=-0.3,upper=30)\n",
    "    s1 = cp.generate_samples(nos, joint_dist1_T,rule='S')\n",
    "    samp1 = s1[:,np.argsort(s1[0,:])]\n",
    "    s2 = cp.generate_samples(nos, joint_dist2,rule='S')\n",
    "    samp2 = s2[:,np.argsort(s2[0,:])]\n",
    "    '''Stack alpha and TI together. In the main sampling array, the first row is the\n",
    "    wind speed, the second row is the shear (alpha) and the third row is TI \n",
    "    '''\n",
    "    samp = np.vstack((samp1,samp2[1,:]))\n",
    "    return samp"
   ]
  },
  {
   "cell_type": "markdown",
   "id": "12ad0ecb-3a32-42af-919d-34e039306476",
   "metadata": {},
   "source": [
    "## Wake shape function, and $\\Delta TI$"
   ]
  },
  {
   "cell_type": "markdown",
   "id": "4ddb1f0d-564f-48d0-be02-fa2de41c0cf4",
   "metadata": {},
   "source": [
    "From [1]\"A new Gaussian-based analytical wake model for wind turbines considering ambient turbulence intensities and thrust coefficient effects\" (https://doi.org/10.1016/j.jweia.2018.04.010) and [2] Wind farm parameterization and turbulent wind box generation\" (https://hal-lara.archives-ouvertes.fr/hal-04033050/)."
   ]
  },
  {
   "cell_type": "code",
   "execution_count": 3,
   "id": "97f1f0e3-79a2-44b5-bb5a-5000d96d889f",
   "metadata": {},
   "outputs": [],
   "source": [
    "def sigma_D(x,D,I_a,Ct):\n",
    "    #From Eq 28 of [1]:\n",
    "    k_star= 0.11*(Ct**1.07)*(I_a**0.2)\n",
    "    epsilon = 0.23*(Ct**(-0.25))*(I_a**0.2)\n",
    "    #From Eq 24 of [1]:\n",
    "    sD = k_star*x/D + epsilon\n",
    "    return sD\n",
    "\n",
    "def vel_def(Ct,sigma_D):\n",
    "    #From Eq 5 of [2]\n",
    "    vd = (1-np.sqrt(1-Ct/(8*(sigma_D**2))))\n",
    "    return vd\n",
    "\n",
    "def get_phi(y,y_wake,z,z_hub,u_0,alpha,vel_def,sigma_D,D):\n",
    "    #From Eq 4 of [2]\n",
    "    u=u_0*(z/z_hub)**alpha\n",
    "    sigma = sigma_D*D\n",
    "    gauss_power = (-1/(sigma**2))*((z-z_hub)**2+(y-y_wake)**2)\n",
    "    guassian = vel_def*np.exp(gauss_power)\n",
    "    phi_yz = u*(1-guassian)\n",
    "    return phi_yz\n",
    "\n",
    "def delta_I(x,y,z,HH,D,I_a,Ct,sigma_D):\n",
    "    # From Eq 35 of [1] and formulas in Table 2\n",
    "    sgm = sigma_D*D\n",
    "    pi = np.pi\n",
    "    r = np.sqrt(y**2 + (z-HH)**2)\n",
    "    d = 2.3*Ct**(-1.2)\n",
    "    e = I_a**(0.1)\n",
    "    f = 0.7*Ct**(-3.2)*I_a**(-0.45)\n",
    "    k1=np.nan\n",
    "    k2=np.nan\n",
    "    if r/D <= 0.5:\n",
    "        k1 = np.cos((pi/2)*(r/D-0.5))**2\n",
    "    elif r/D > 0.5:\n",
    "        k1 =1\n",
    "    if r/D <= 0.5:\n",
    "        k2 = np.cos((pi/2)*(r/D+0.5))**2\n",
    "    elif r/D > 0.5:\n",
    "        k2 =0\n",
    "    if z>=HH:\n",
    "        drk = 0\n",
    "    elif z<HH:\n",
    "        drk = I_a*np.sin(pi*(HH-z)/HH)\n",
    "        #drk = 0\n",
    "    frc1 = 1/(d+e*x/D+f*(1+x/D)**(-2))\n",
    "    frc2 = -((r-D/2)**2)/(2*sgm**2)\n",
    "    frc3 = -((r+D/2)**2)/(2*sgm**2)\n",
    "    d_I1 = frc1*(k1*np.exp(frc2) + k2*np.exp(frc3)) - drk\n",
    "    return d_I1"
   ]
  },
  {
   "cell_type": "markdown",
   "id": "3e350da3-3878-4c97-85b4-338bdcd991a4",
   "metadata": {},
   "source": [
    "## Reading the $C_{t}$ for NREL 5MW turbine.\n",
    "\n",
    "I downloaded this CSV file from (https://github.com/NREL/turbine-models/blob/master/Offshore/NREL_5MW_126_RWT.csv). I am not sure about the $C_t$ values for the lower wind speeds."
   ]
  },
  {
   "cell_type": "code",
   "execution_count": 4,
   "id": "63a2bb1c-b4bc-4c92-830d-02adc78056ab",
   "metadata": {},
   "outputs": [],
   "source": [
    "NREL_5MW_Ct = pd.read_csv('NREL_Ct.csv')\n",
    "NREL_5MW_Ct=NREL_5MW_Ct.drop(labels=0,axis=0)\n",
    "NREL_5MW_Ct = NREL_5MW_Ct.astype(float)\n",
    "\n",
    "D = 126     #Rotor diameter [m]"
   ]
  },
  {
   "cell_type": "markdown",
   "id": "4a097a47-4e8a-4aca-88f1-1308792a892b",
   "metadata": {},
   "source": [
    "## Generating the Sobol's samples for $n$ \n",
    "\n",
    "We are going for $n=2^{11}$ samples."
   ]
  },
  {
   "cell_type": "code",
   "execution_count": 5,
   "id": "ae1b9304-b785-4137-a80f-0e2e6dbd3106",
   "metadata": {},
   "outputs": [],
   "source": [
    "NS = 2**11\n",
    "samp = Sobol_Samp_u_a_TI(NS)\n",
    "sobol_samps = pd.DataFrame(data = samp.T,columns=['u','alpha','TI'])\n"
   ]
  },
  {
   "cell_type": "markdown",
   "id": "c542dc78-eedb-4b66-82be-7c85faebba9e",
   "metadata": {},
   "source": [
    "## Read the sample BTS file to have the nodes y,z locations \n",
    "\n",
    "I copied one bts file from the precious case to have the grid points as they are needed to calculate $\\phi$ and $TI$. Afterwards, I exported the y and z locations for the grids."
   ]
  },
  {
   "cell_type": "code",
   "execution_count": 6,
   "id": "a860d0a4-7ac8-430a-baad-343c1c9b9bcb",
   "metadata": {},
   "outputs": [],
   "source": [
    "InitialOutput = TurbSimFile('90m_03p06646mps_ti_00p10314_alp_00p11765_000100.bts')\n",
    "y = InitialOutput['y']\n",
    "z = InitialOutput['z']\n",
    "\n",
    "# making mesh using y,z for plotting and averaging purposes\n",
    "Y,Z= np.meshgrid(y,z)"
   ]
  },
  {
   "cell_type": "markdown",
   "id": "efcc4b70-e6ee-4483-afed-be363dae822f",
   "metadata": {},
   "source": [
    "## Find the mask on the rotor to calculate the means\n",
    "\n",
    "As we said before, we need to calculate the harmonic meand for the wake shape function, and mean for the $\\Delta TI$. Here we find a mask, that is the same size as the grid, and tell us which grid points lay in the rotor."
   ]
  },
  {
   "cell_type": "code",
   "execution_count": 7,
   "id": "4c6cc5a6-189a-45fa-9f29-a0bc18619602",
   "metadata": {},
   "outputs": [],
   "source": [
    "rotor_center = (0, 90)\n",
    "rotor_radius = D/2\n",
    "\n",
    "# Mask to select points inside the circle\n",
    "inside_rotor_mask = (Y - rotor_center[0])**2 + (Z - rotor_center[1])**2 <= rotor_radius**2"
   ]
  },
  {
   "cell_type": "markdown",
   "id": "253f8250-8c09-4528-bc54-007543430dda",
   "metadata": {},
   "source": [
    "## Using the generated samples from Sobol's to calculate the wake shape function $\\phi$ and $\\Delta TI$\n",
    "\n",
    "To this point we geneated the samples, now with this data we can calculate the wake shape function and changes in TI. Then the means are saved in a dataframe and saved. As in TurbSim we don't have control on mean wind speed and TI per grid point, we calculate the harmonic mean and average over the rotor and use them to generate turbsim data files. This is based on [2], section 4.4.2."
   ]
  },
  {
   "cell_type": "code",
   "execution_count": 8,
   "id": "2bb8f7e0-13d4-4fae-9871-14b3924ede32",
   "metadata": {},
   "outputs": [],
   "source": [
    "modified_sobol = pd.DataFrame(columns=['u','alpha','TI','Seed Number'])\n",
    "\n",
    "x = 7*D     #Distance down the first turbine\n",
    "y_wake = 0  #The center of the wake y\n",
    "z_hub = 90  #Hub height\n",
    "\n",
    "\n",
    "for (u,a,ti,s) in zip(samp[0,:],samp[1,:],samp[2,:],range(1,NS+1)):\n",
    "    # Find the corresponding Ct for the wind speed\n",
    "    Ct = NREL_5MW_Ct.loc[NREL_5MW_Ct['WindVxi']==np.round(u)]['Ct'].to_numpy()\n",
    "    # The wake width based on the linear wake propogation\n",
    "    S_ovr_D = sigma_D(x=x,D=D,I_a=ti,Ct=Ct)\n",
    "    # The maximum velocity defici\n",
    "    vd = vel_def(Ct,S_ovr_D)\n",
    "    phi = np.zeros((15,15))\n",
    "    dI1 = np.zeros((15,15))\n",
    "    for i,y_i in zip(range(0,15),y):\n",
    "        for j,z_i in zip(range(0,15),z):\n",
    "            #print(y_i,z_i)\n",
    "            phi[j,i] = get_phi(y_i,y_wake,z_i,z_hub,u,a,vel_def=vd,sigma_D=S_ovr_D,D=D)\n",
    "            dI1[j,i] = delta_I(x,y_i,z_i,z_hub,D,ti,Ct,S_ovr_D)\n",
    "    hmean_rotor_phi = hmean(phi[inside_rotor_mask])\n",
    "    mean_rotor_dI1 = np.mean(dI1[inside_rotor_mask])\n",
    "    df_temp = pd.DataFrame(data = np.array([hmean_rotor_phi,a,ti+mean_rotor_dI1,s]).reshape(1,-1),columns=['u','alpha','TI','Seed Number'])\n",
    "    modified_sobol = pd.concat([modified_sobol,df_temp],axis=0,ignore_index = True)\n",
    "    \n",
    "modified_sobol.astype({'Seed Number': 'int32'})\n",
    "modified_sobol.to_csv('mod_sobol.csv')"
   ]
  },
  {
   "cell_type": "markdown",
   "id": "96612a33-447b-48ef-baaf-51d181f69102",
   "metadata": {},
   "source": [
    "## Generating the turbsim input files for the modified Sobol's samples\n",
    "\n",
    "Now, we have the Sobol's samples modified, we can generate the turbsim input files"
   ]
  },
  {
   "cell_type": "code",
   "execution_count": 9,
   "id": "e1bfdf12-0aa7-4c0a-b659-c0c48299e67c",
   "metadata": {},
   "outputs": [],
   "source": [
    "\n",
    "TrasTime = 120\n",
    "SimLength = np.array([600])\n",
    "\n",
    "DecInFN = 5 #Decimal in file naming\n",
    "\n",
    "SeedNo = np.arange(1,NS+1)\n",
    "\n",
    "def DeciToStr(x,zfl_x,zfl_d):\n",
    "    n = np.trunc(x).astype(int)\n",
    "    ndci = np.abs(x-n)\n",
    "    if x<0:\n",
    "        n_str = 'n'+str(np.abs(n)).zfill(zfl_x-1)\n",
    "    else:\n",
    "        n_str = str(n).zfill(zfl_x)\n",
    "    ndci_str = str(int(ndci*np.power(10,zfl_d))).zfill(zfl_d) \n",
    "    return n_str,ndci_str\n",
    "\n",
    "\n",
    "\n",
    "TurbSimInputTemp = \"../TurbSim/_Template/HH_UREFmps_SeedNo.inp\"\n",
    "fTurbSimInput = FASTInputFile(TurbSimInputTemp)\n",
    "#TurbSimExeFile = \"turbsim\"\n",
    "#TurbSimBatFile = \"../TurbSim/\"+timestr+'_TurbSimBatFile.sh'\n",
    "#fTurbSimBatFile = open(TurbSimBatFile,\"w\")\n",
    "#fTurbSimBatFile.write(\"#!/bin/bash\\n\") \n",
    "\n",
    "for uats in zip(modified_sobol.to_numpy(),SeedNo):    \n",
    "    fTurbSimInput = FASTInputFile(TurbSimInputTemp)\n",
    "    fTurbSimInput['URef'] = uats[0][0]\n",
    "    fTurbSimInput['RandSeed1'] = uats[1].astype(int)\n",
    "    fTurbSimInput['NumGrid_Z'] = int(15)\n",
    "    fTurbSimInput['NumGrid_Y'] = int(15)\n",
    "    fTurbSimInput['AnalysisTime'] = int(SimLength+TrasTime)\n",
    "    fTurbSimInput['WrADHH'] = 'False'\n",
    "    fTurbSimInput['IECturbc'] = uats[0][2]*100\n",
    "    fTurbSimInput['PLExp'] = uats[0][1]\n",
    "    u_n, u_dec = DeciToStr(uats[0][0],2,DecInFN)\n",
    "    TI_n, TI_dec = DeciToStr(uats[0][2],2,DecInFN)\n",
    "    a_n, a_dec = DeciToStr(uats[0][1],2,DecInFN)\n",
    "    TurbSimInputFileName =str(z_hub)+'m_'+u_n+'p'+u_dec+'mps_ti_'+TI_n+'p'+TI_dec+'_alp_'+a_n+'p'+a_dec+'_'+str(uats[1].astype(int)).zfill(6)+'.inp'\n",
    "    fTurbSimInput.write(\"../TurbSim/\"+TurbSimInputFileName)\n",
    "            \n"
   ]
  },
  {
   "cell_type": "markdown",
   "id": "0deec877-a07b-481a-98e9-26236c5b8dd3",
   "metadata": {},
   "source": [
    "## Generating the Inflow input files\n",
    "\n",
    "The inflow files are necessary to introduce turbsim outputs to OpenFAST"
   ]
  },
  {
   "cell_type": "code",
   "execution_count": 10,
   "id": "3a96333f-cb76-4abb-8916-76767f98e9f3",
   "metadata": {},
   "outputs": [],
   "source": [
    "InflowInputTemp = \"../Inflow/_Template/NRELOffshrBsline5MW_InflowWind_XXmps.dat\" \n",
    "\n",
    "InflowFileNameList={}\n",
    "\n",
    "for uats in zip(modified_sobol.to_numpy(),SeedNo):    \n",
    "    fInflowInput = FASTInputFile(InflowInputTemp)\n",
    "    fInflowInput['m/s'] = uats[0][0]\n",
    "    u_n, u_dec = DeciToStr(uats[0][0],2,DecInFN)\n",
    "    TI_n, TI_dec = DeciToStr(uats[0][2],2,DecInFN)\n",
    "    a_n, a_dec = DeciToStr(uats[0][1],2,DecInFN)\n",
    "    BTSFileName =str(z_hub)+'m_'+u_n+'p'+u_dec+'mps_ti_'+TI_n+'p'+TI_dec+'_alp_'+a_n+'p'+a_dec+'_'+str(uats[1].astype(int)).zfill(6)+'.bts'\n",
    "    fInflowInput['WindType']= 3\n",
    "    fInflowInput['FileName_BTS'] = '\"../TurbSim/'+BTSFileName+'\"'\n",
    "    InflowFileName = \"NREL5MW_InflowWind_\"+u_n+'p'+u_dec+'mps_ti_'+TI_n+'p'+TI_dec+'_alp_'+a_n+'p'+a_dec+'_'+str(uats[1].astype(int)).zfill(6)+'.dat'\n",
    "    fInflowInput.write(\"../Inflow/\"+InflowFileName)"
   ]
  },
  {
   "cell_type": "markdown",
   "id": "57def20e-744e-4250-b1b1-41aa98a44cfa",
   "metadata": {},
   "source": [
    "## Generating OpenFAST input files\n",
    "\n",
    "Everything is ready for this!"
   ]
  },
  {
   "cell_type": "code",
   "execution_count": 11,
   "id": "3e474e45-f918-47e6-9436-7bca160b209e",
   "metadata": {},
   "outputs": [],
   "source": [
    "DLC = 'DLC12'\n",
    "WindDir =0\n",
    "WaveDir = 0\n",
    "SimLength = 600\n",
    "TrasTime = 120\n",
    "dt= 0.05/8\n",
    "dt_out = 0.05\n",
    "\n",
    "FASTTemp = \"../Sims/_Template/5MW_Land_DLL_WTurb.fst\"\n",
    "fFASTTemp = FASTInputFile(FASTTemp)\n",
    "SimFolder = '../Sims/DLC12_NREL5MW'+'_'+str(WindDir).zfill(3)+'_'+str(WaveDir).zfill(3)+'_'+str(SimLength).zfill(3)+'s'\n",
    "\n",
    "if  os.path.exists(SimFolder) == False:\n",
    "    os.mkdir(SimFolder)\n",
    "\n",
    "for uats in zip(modified_sobol.to_numpy(),SeedNo):    \n",
    "    fFASTTemp = FASTInputFile(FASTTemp)\n",
    "    u_n, u_dec = DeciToStr(uats[0][0],2,DecInFN)\n",
    "    TI_n, TI_dec = DeciToStr(uats[0][2],2,DecInFN)\n",
    "    a_n, a_dec = DeciToStr(uats[0][1],2,DecInFN)\n",
    "    fFASTTemp['DT']=dt\n",
    "    fFASTTemp['TMax']=SimLength+TrasTime\n",
    "    fFASTTemp['InflowFile']='\"../../Inflow/'+\"NREL5MW_InflowWind_\"+u_n+'p'+u_dec+'mps_ti_'+TI_n+'p'+TI_dec+'_alp_'+a_n+'p'+a_dec+'_'+str(uats[1].astype(int)).zfill(6)+'.dat\"'\n",
    "    fFASTTemp['TStart'] = TrasTime\n",
    "    fFASTTemp['DT_Out'] = dt_out\n",
    "    if uats[0][0] > 19:\n",
    "        fFASTTemp['EDFile']= '\"NRELOffshrBsline5MW_Onshore_ElastoDyn_Pitch20deg.dat\"'\n",
    "    FASTFileName = 'NREL5MW_'+DLC+'_'+u_n+'p'+u_dec+'mps_ti_'+TI_n+'p'+TI_dec+'_alp_'+a_n+'p'+a_dec+'_'+str(WindDir).zfill(3)+'_'+str(WaveDir).zfill(3)+'_'+str(uats[1].astype(int)).zfill(6)+'.fst'\n",
    "    fFASTTemp.write(SimFolder+'/'+FASTFileName)"
   ]
  },
  {
   "cell_type": "markdown",
   "id": "ab4f9b0a-1e88-4583-a009-a5e545609119",
   "metadata": {},
   "source": [
    "## Generating the SH files to submit to the queue\n",
    "\n",
    "We have generated the input files for Turbsim and OpenFAST. Now, here we put them in the SH files, in this order per simulation case:\n",
    "\n",
    "- TurbSim\n",
    "- Python code to add static wake to generated TurbSim\n",
    "- OpenFAST\n",
    "\n",
    "This should better work! I am done with this shit!"
   ]
  },
  {
   "cell_type": "code",
   "execution_count": 15,
   "id": "4a976785-28d2-4ed2-ac7b-dedadfa2bc82",
   "metadata": {},
   "outputs": [],
   "source": [
    "files_fst=[]\n",
    "\n",
    "for file in glob.glob(SimFolder+'/*.fst'):\n",
    "    files_fst.append(file)\n",
    "\n",
    "files_fst.sort()\n",
    "\n",
    "\n",
    "files_inp=[]\n",
    "\n",
    "for file in glob.glob(\"../TurbSim/*.inp\"):\n",
    "    files_inp.append(file)\n",
    "\n",
    "files_inp.sort()\n",
    "\n",
    "\n",
    "\n",
    "\n",
    "\n",
    "\n",
    "#%%    \n",
    "FASTExeFile = \"openfast\"\n",
    "TurbSimExeFile = \"turbsim\"\n",
    "PythinExeFile = \"python\"\n",
    "StaticWake_Python = \"../_PythonCode/StaticWake_BTSModifier.py\"\n",
    "\n",
    "NoFiles = 16\n",
    "TotalNum = NS\n",
    "it_steps = np.arange(0,TotalNum+1,NoFiles)\n",
    "#it_steps = np.append(it_steps,nos)\n",
    "\n",
    "m=0\n",
    "#%%\n",
    "for i in range(1,it_steps.size):\n",
    "    FASTBatFile = '../Sims/'+str(i).zfill(4)+'of'+str(it_steps.size-1).zfill(4)+'_NREL5MW_sims'+'.sh'\n",
    "    fFASTBatFile = open(FASTBatFile,\"w\")\n",
    "    fFASTBatFile.write(\"#!/bin/bash\\n\")\n",
    "    fFASTBatFile.write(\"#SBATCH --account=def-curranc\\n\")\n",
    "    fFASTBatFile.write(\"#SBATCH --mem-per-cpu=4G      # increase as needed\\n\")\n",
    "    fFASTBatFile.write(\"#SBATCH --time=24:00:00\\n\")\n",
    "    fFASTBatFile.write(\"module load StdEnv/2020  intel/2020.1.217 openfast/3.1.0\\n\")  \n",
    "    fFASTBatFile.write(\"source $HOME/jupyter_py3/bin/activate \\n\")  \n",
    "    for j in range(it_steps[i-1],it_steps[i]):\n",
    "        bts_file = files_inp[j][0:files_inp[j].find('.inp')]+'.bts'\n",
    "        fFASTBatFile.write(TurbSimExeFile+' '+files_inp[j]+'\\n')\n",
    "        fFASTBatFile.write(PythinExeFile+' '+ StaticWake_Python+' '+bts_file+' '+str(y_wake)+'\\n')\n",
    "        fFASTBatFile.write(FASTExeFile+' '+files_fst[j][8:]+'\\n')\n",
    "        m=m+1\n",
    "    fFASTBatFile.write('rm ../TurbSim/*.sum'+ '\\n')    \n",
    "    fFASTBatFile.close()                                      \n",
    "\n",
    "#%%\n",
    "\n",
    "os.chdir('../Sims/')\n",
    "\n",
    "files=[]\n",
    "\n",
    "for file in glob.glob(\"*.sh\"):\n",
    "    files.append(file)\n",
    "    \n",
    "    \n",
    "files.sort()\n",
    "\n",
    "sbatch_file = timestr+'_SHELLofshell.sh'\n",
    "sbatch ='sbatch'\n",
    "sbatchf = open(sbatch_file,'w')\n",
    "\n",
    "\n",
    "\n",
    "for f in files:\n",
    "    sbatchf.write(sbatch+' '+f+'\\n')\n",
    "\n",
    "sbatchf.close()\n",
    "\n",
    "os.chdir('../_PythonCode')    \n"
   ]
  },
  {
   "cell_type": "code",
   "execution_count": 9,
   "id": "13a6ef67-787b-4b49-884d-21e6f5fb0468",
   "metadata": {},
   "outputs": [
    {
     "data": {
      "text/plain": [
       "<matplotlib.colorbar.Colorbar at 0x2addf7a29b80>"
      ]
     },
     "execution_count": 9,
     "metadata": {},
     "output_type": "execute_result"
    },
    {
     "data": {
      "image/png": "[encoded data removed]",
      "text/plain": [
       "<Figure size 432x288 with 2 Axes>"
      ]
     },
     "metadata": {
      "needs_background": "light"
     },
     "output_type": "display_data"
    }
   ],
   "source": [
    "TestWake = TurbSimFile('../TurbSim/90m_19p10004mps_ti_00p04810_alp_n0p08132_001561.bts')\n",
    "y = TestWake['y']\n",
    "z = TestWake['z']\n",
    "\n",
    "# making mesh using y,z for plotting and averaging purposes\n",
    "Y,Z= np.meshgrid(y,z)\n",
    "\n",
    "plt.contourf(Y,Z,TestWake['u'][0,int(320/0.05),:,:])\n",
    "plt.colorbar()"
   ]
  }
 ],
 "metadata": {
  "kernelspec": {
   "display_name": "OpenFast_Kernel",
   "language": "python",
   "name": "of_kernel"
  },
  "language_info": {
   "codemirror_mode": {
    "name": "ipython",
    "version": 3
   },
   "file_extension": ".py",
   "mimetype": "text/x-python",
   "name": "python",
   "nbconvert_exporter": "python",
   "pygments_lexer": "ipython3",
   "version": "3.8.10"
  }
 },
 "nbformat": 4,
 "nbformat_minor": 5
}
